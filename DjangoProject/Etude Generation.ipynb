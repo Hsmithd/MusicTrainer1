{
 "cells": [
  {
   "cell_type": "code",
   "id": "initial_id",
   "metadata": {
    "collapsed": true,
    "ExecuteTime": {
     "end_time": "2025-07-21T23:02:33.712461Z",
     "start_time": "2025-07-21T23:02:28.484845Z"
    }
   },
   "source": [
    "# Install a potentially more compatible version of transformers and datasets\n",
    "# Install a potentially more compatible version of transformers, datasets, and accelerate\n",
    "!pip install datasets==2.16.1 transformers==4.38.0 peft==0.8.2 accelerate==0.27.2\n",
    "!pip install --pre torch torchvision torchaudio --index-url https://download.pytorch.org/whl/nightly/cu129\n",
    "!pip install hf_xet\n"
   ],
   "outputs": [
    {
     "name": "stdout",
     "output_type": "stream",
     "text": [
      "Requirement already satisfied: datasets==2.16.1 in c:\\users\\smith\\desktop\\web app research\\musictrainer\\.venv\\lib\\site-packages (2.16.1)\n",
      "Requirement already satisfied: transformers==4.38.0 in c:\\users\\smith\\desktop\\web app research\\musictrainer\\.venv\\lib\\site-packages (4.38.0)\n",
      "Requirement already satisfied: peft==0.8.2 in c:\\users\\smith\\desktop\\web app research\\musictrainer\\.venv\\lib\\site-packages (0.8.2)\n",
      "Requirement already satisfied: accelerate==0.27.2 in c:\\users\\smith\\desktop\\web app research\\musictrainer\\.venv\\lib\\site-packages (0.27.2)\n",
      "Requirement already satisfied: filelock in c:\\users\\smith\\desktop\\web app research\\musictrainer\\.venv\\lib\\site-packages (from datasets==2.16.1) (3.18.0)\n",
      "Requirement already satisfied: numpy>=1.17 in c:\\users\\smith\\desktop\\web app research\\musictrainer\\.venv\\lib\\site-packages (from datasets==2.16.1) (2.3.1)\n",
      "Requirement already satisfied: pyarrow>=8.0.0 in c:\\users\\smith\\desktop\\web app research\\musictrainer\\.venv\\lib\\site-packages (from datasets==2.16.1) (20.0.0)\n",
      "Requirement already satisfied: pyarrow-hotfix in c:\\users\\smith\\desktop\\web app research\\musictrainer\\.venv\\lib\\site-packages (from datasets==2.16.1) (0.7)\n",
      "Requirement already satisfied: dill<0.3.8,>=0.3.0 in c:\\users\\smith\\desktop\\web app research\\musictrainer\\.venv\\lib\\site-packages (from datasets==2.16.1) (0.3.7)\n",
      "Requirement already satisfied: pandas in c:\\users\\smith\\desktop\\web app research\\musictrainer\\.venv\\lib\\site-packages (from datasets==2.16.1) (2.3.0)\n",
      "Requirement already satisfied: requests>=2.19.0 in c:\\users\\smith\\desktop\\web app research\\musictrainer\\.venv\\lib\\site-packages (from datasets==2.16.1) (2.32.4)\n",
      "Requirement already satisfied: tqdm>=4.62.1 in c:\\users\\smith\\desktop\\web app research\\musictrainer\\.venv\\lib\\site-packages (from datasets==2.16.1) (4.67.1)\n",
      "Requirement already satisfied: xxhash in c:\\users\\smith\\desktop\\web app research\\musictrainer\\.venv\\lib\\site-packages (from datasets==2.16.1) (3.5.0)\n",
      "Requirement already satisfied: multiprocess in c:\\users\\smith\\desktop\\web app research\\musictrainer\\.venv\\lib\\site-packages (from datasets==2.16.1) (0.70.15)\n",
      "Requirement already satisfied: fsspec<=2023.10.0,>=2023.1.0 in c:\\users\\smith\\desktop\\web app research\\musictrainer\\.venv\\lib\\site-packages (from fsspec[http]<=2023.10.0,>=2023.1.0->datasets==2.16.1) (2023.10.0)\n",
      "Requirement already satisfied: aiohttp in c:\\users\\smith\\desktop\\web app research\\musictrainer\\.venv\\lib\\site-packages (from datasets==2.16.1) (3.12.13)\n",
      "Requirement already satisfied: huggingface-hub>=0.19.4 in c:\\users\\smith\\desktop\\web app research\\musictrainer\\.venv\\lib\\site-packages (from datasets==2.16.1) (0.33.2)\n",
      "Requirement already satisfied: packaging in c:\\users\\smith\\desktop\\web app research\\musictrainer\\.venv\\lib\\site-packages (from datasets==2.16.1) (25.0)\n",
      "Requirement already satisfied: pyyaml>=5.1 in c:\\users\\smith\\desktop\\web app research\\musictrainer\\.venv\\lib\\site-packages (from datasets==2.16.1) (6.0.2)\n",
      "Requirement already satisfied: regex!=2019.12.17 in c:\\users\\smith\\desktop\\web app research\\musictrainer\\.venv\\lib\\site-packages (from transformers==4.38.0) (2024.11.6)\n",
      "Requirement already satisfied: tokenizers<0.19,>=0.14 in c:\\users\\smith\\desktop\\web app research\\musictrainer\\.venv\\lib\\site-packages (from transformers==4.38.0) (0.15.2)\n",
      "Requirement already satisfied: safetensors>=0.4.1 in c:\\users\\smith\\desktop\\web app research\\musictrainer\\.venv\\lib\\site-packages (from transformers==4.38.0) (0.5.3)\n",
      "Requirement already satisfied: psutil in c:\\users\\smith\\desktop\\web app research\\musictrainer\\.venv\\lib\\site-packages (from peft==0.8.2) (7.0.0)\n",
      "Requirement already satisfied: torch>=1.13.0 in c:\\users\\smith\\desktop\\web app research\\musictrainer\\.venv\\lib\\site-packages (from peft==0.8.2) (2.9.0.dev20250715+cu129)\n",
      "Requirement already satisfied: typing-extensions>=3.7.4.3 in c:\\users\\smith\\desktop\\web app research\\musictrainer\\.venv\\lib\\site-packages (from huggingface-hub>=0.19.4->datasets==2.16.1) (4.14.0)\n",
      "Requirement already satisfied: aiohappyeyeballs>=2.5.0 in c:\\users\\smith\\desktop\\web app research\\musictrainer\\.venv\\lib\\site-packages (from aiohttp->datasets==2.16.1) (2.6.1)\n",
      "Requirement already satisfied: aiosignal>=1.1.2 in c:\\users\\smith\\desktop\\web app research\\musictrainer\\.venv\\lib\\site-packages (from aiohttp->datasets==2.16.1) (1.3.2)\n",
      "Requirement already satisfied: attrs>=17.3.0 in c:\\users\\smith\\desktop\\web app research\\musictrainer\\.venv\\lib\\site-packages (from aiohttp->datasets==2.16.1) (25.3.0)\n",
      "Requirement already satisfied: frozenlist>=1.1.1 in c:\\users\\smith\\desktop\\web app research\\musictrainer\\.venv\\lib\\site-packages (from aiohttp->datasets==2.16.1) (1.7.0)\n",
      "Requirement already satisfied: multidict<7.0,>=4.5 in c:\\users\\smith\\desktop\\web app research\\musictrainer\\.venv\\lib\\site-packages (from aiohttp->datasets==2.16.1) (6.6.3)\n",
      "Requirement already satisfied: propcache>=0.2.0 in c:\\users\\smith\\desktop\\web app research\\musictrainer\\.venv\\lib\\site-packages (from aiohttp->datasets==2.16.1) (0.3.2)\n",
      "Requirement already satisfied: yarl<2.0,>=1.17.0 in c:\\users\\smith\\desktop\\web app research\\musictrainer\\.venv\\lib\\site-packages (from aiohttp->datasets==2.16.1) (1.20.1)\n",
      "Requirement already satisfied: idna>=2.0 in c:\\users\\smith\\desktop\\web app research\\musictrainer\\.venv\\lib\\site-packages (from yarl<2.0,>=1.17.0->aiohttp->datasets==2.16.1) (3.10)\n",
      "Requirement already satisfied: charset_normalizer<4,>=2 in c:\\users\\smith\\desktop\\web app research\\musictrainer\\.venv\\lib\\site-packages (from requests>=2.19.0->datasets==2.16.1) (3.4.2)\n",
      "Requirement already satisfied: urllib3<3,>=1.21.1 in c:\\users\\smith\\desktop\\web app research\\musictrainer\\.venv\\lib\\site-packages (from requests>=2.19.0->datasets==2.16.1) (2.5.0)\n",
      "Requirement already satisfied: certifi>=2017.4.17 in c:\\users\\smith\\desktop\\web app research\\musictrainer\\.venv\\lib\\site-packages (from requests>=2.19.0->datasets==2.16.1) (2025.6.15)\n",
      "Requirement already satisfied: sympy>=1.13.3 in c:\\users\\smith\\desktop\\web app research\\musictrainer\\.venv\\lib\\site-packages (from torch>=1.13.0->peft==0.8.2) (1.14.0)\n",
      "Requirement already satisfied: networkx in c:\\users\\smith\\desktop\\web app research\\musictrainer\\.venv\\lib\\site-packages (from torch>=1.13.0->peft==0.8.2) (3.5)\n",
      "Requirement already satisfied: jinja2 in c:\\users\\smith\\desktop\\web app research\\musictrainer\\.venv\\lib\\site-packages (from torch>=1.13.0->peft==0.8.2) (3.1.6)\n",
      "Requirement already satisfied: setuptools in c:\\users\\smith\\desktop\\web app research\\musictrainer\\.venv\\lib\\site-packages (from torch>=1.13.0->peft==0.8.2) (80.9.0)\n",
      "Requirement already satisfied: mpmath<1.4,>=1.1.0 in c:\\users\\smith\\desktop\\web app research\\musictrainer\\.venv\\lib\\site-packages (from sympy>=1.13.3->torch>=1.13.0->peft==0.8.2) (1.3.0)\n",
      "Requirement already satisfied: colorama in c:\\users\\smith\\desktop\\web app research\\musictrainer\\.venv\\lib\\site-packages (from tqdm>=4.62.1->datasets==2.16.1) (0.4.6)\n",
      "Requirement already satisfied: MarkupSafe>=2.0 in c:\\users\\smith\\desktop\\web app research\\musictrainer\\.venv\\lib\\site-packages (from jinja2->torch>=1.13.0->peft==0.8.2) (3.0.2)\n",
      "Requirement already satisfied: python-dateutil>=2.8.2 in c:\\users\\smith\\desktop\\web app research\\musictrainer\\.venv\\lib\\site-packages (from pandas->datasets==2.16.1) (2.9.0.post0)\n",
      "Requirement already satisfied: pytz>=2020.1 in c:\\users\\smith\\desktop\\web app research\\musictrainer\\.venv\\lib\\site-packages (from pandas->datasets==2.16.1) (2025.2)\n",
      "Requirement already satisfied: tzdata>=2022.7 in c:\\users\\smith\\desktop\\web app research\\musictrainer\\.venv\\lib\\site-packages (from pandas->datasets==2.16.1) (2025.2)\n",
      "Requirement already satisfied: six>=1.5 in c:\\users\\smith\\desktop\\web app research\\musictrainer\\.venv\\lib\\site-packages (from python-dateutil>=2.8.2->pandas->datasets==2.16.1) (1.17.0)\n",
      "Looking in indexes: https://download.pytorch.org/whl/nightly/cu129\n",
      "Requirement already satisfied: torch in c:\\users\\smith\\desktop\\web app research\\musictrainer\\.venv\\lib\\site-packages (2.9.0.dev20250715+cu129)\n",
      "Requirement already satisfied: torchvision in c:\\users\\smith\\desktop\\web app research\\musictrainer\\.venv\\lib\\site-packages (0.24.0.dev20250716+cu129)\n",
      "Requirement already satisfied: torchaudio in c:\\users\\smith\\desktop\\web app research\\musictrainer\\.venv\\lib\\site-packages (2.8.0.dev20250716+cu129)\n",
      "Requirement already satisfied: filelock in c:\\users\\smith\\desktop\\web app research\\musictrainer\\.venv\\lib\\site-packages (from torch) (3.18.0)\n",
      "Requirement already satisfied: typing-extensions>=4.10.0 in c:\\users\\smith\\desktop\\web app research\\musictrainer\\.venv\\lib\\site-packages (from torch) (4.14.0)\n",
      "Requirement already satisfied: sympy>=1.13.3 in c:\\users\\smith\\desktop\\web app research\\musictrainer\\.venv\\lib\\site-packages (from torch) (1.14.0)\n",
      "Requirement already satisfied: networkx in c:\\users\\smith\\desktop\\web app research\\musictrainer\\.venv\\lib\\site-packages (from torch) (3.5)\n",
      "Requirement already satisfied: jinja2 in c:\\users\\smith\\desktop\\web app research\\musictrainer\\.venv\\lib\\site-packages (from torch) (3.1.6)\n",
      "Requirement already satisfied: fsspec in c:\\users\\smith\\desktop\\web app research\\musictrainer\\.venv\\lib\\site-packages (from torch) (2023.10.0)\n",
      "Requirement already satisfied: setuptools in c:\\users\\smith\\desktop\\web app research\\musictrainer\\.venv\\lib\\site-packages (from torch) (80.9.0)\n",
      "Requirement already satisfied: numpy in c:\\users\\smith\\desktop\\web app research\\musictrainer\\.venv\\lib\\site-packages (from torchvision) (2.3.1)\n",
      "Requirement already satisfied: pillow!=8.3.*,<11.3,>=5.3.0 in c:\\users\\smith\\desktop\\web app research\\musictrainer\\.venv\\lib\\site-packages (from torchvision) (11.2.1)\n",
      "Requirement already satisfied: mpmath<1.4,>=1.1.0 in c:\\users\\smith\\desktop\\web app research\\musictrainer\\.venv\\lib\\site-packages (from sympy>=1.13.3->torch) (1.3.0)\n",
      "Requirement already satisfied: MarkupSafe>=2.0 in c:\\users\\smith\\desktop\\web app research\\musictrainer\\.venv\\lib\\site-packages (from jinja2->torch) (3.0.2)\n",
      "Requirement already satisfied: hf_xet in c:\\users\\smith\\desktop\\web app research\\musictrainer\\.venv\\lib\\site-packages (1.1.5)\n"
     ]
    }
   ],
   "execution_count": 1
  },
  {
   "metadata": {
    "ExecuteTime": {
     "end_time": "2025-07-21T23:04:18.131203Z",
     "start_time": "2025-07-21T23:04:16.622573Z"
    }
   },
   "cell_type": "code",
   "source": [
    "from datasets import load_dataset, concatenate_datasets\n",
    "\n",
    "# Load your dataset\n",
    "dataset = load_dataset(\"sander-wood/melodyhub\")\n",
    "\n",
    "# Combine train and validation splits into a single dataset\n",
    "full_dataset = concatenate_datasets([dataset['train'], dataset['validation']])\n",
    "\n",
    "# Select 50% of the full dataset\n",
    "subset_dataset = full_dataset.train_test_split(test_size=0.5, seed=42)['train']  # Keep 50% of the data\n",
    "\n",
    "# Split the 50% subset into train (25%), validation (12.5%), and test (12.5%)\n",
    "train_val_split = subset_dataset.train_test_split(test_size=0.25, seed=42)\n",
    "train_dataset = train_val_split['train']             # 75% of 50% = 37.5% of full\n",
    "val_test_split = train_val_split['test'].train_test_split(test_size=0.5, seed=42)\n",
    "new_validation_dataset = val_test_split['train']     # 12.5% of full\n",
    "test_dataset = val_test_split['test']                # 12.5% of full\n",
    "\n",
    "# 🔻 Reduce training set size for faster experimentation\n",
    "train_dataset = train_dataset.select(range(5000))  # Use only first 5,000 samples\n",
    "new_validation_dataset= train_dataset.select(range(5000))\n",
    "test_dataset = train_dataset.select(range(5000))\n",
    "# Print dataset sizes to verify\n",
    "print(\"Original Full Dataset Size:\", len(full_dataset))\n",
    "print(\"Subset Used (50%):\", len(subset_dataset))\n",
    "print(\"Reduced Train Set Size:\", len(train_dataset))\n",
    "print(\"Validation Set Size:\", len(new_validation_dataset))\n",
    "print(\"Test Set Size:\", len(test_dataset))\n"
   ],
   "id": "f2561809d5eb9bdb",
   "outputs": [
    {
     "name": "stdout",
     "output_type": "stream",
     "text": [
      "Original Full Dataset Size: 1067747\n",
      "Subset Used (50%): 533873\n",
      "Reduced Train Set Size: 5000\n",
      "Validation Set Size: 5000\n",
      "Test Set Size: 5000\n"
     ]
    }
   ],
   "execution_count": 4
  },
  {
   "metadata": {
    "ExecuteTime": {
     "end_time": "2025-07-21T23:04:26.483169Z",
     "start_time": "2025-07-21T23:04:21.431494Z"
    }
   },
   "cell_type": "code",
   "source": [
    "from transformers import RobertaTokenizerFast\n",
    "\n",
    "# Use the fast version for better performance and compatibility\n",
    "tokenizer = RobertaTokenizerFast.from_pretrained(\"roberta-base\")\n",
    "\n",
    "# Centralized tokenization function\n",
    "def tokenize_function(examples):\n",
    "    return tokenizer(\n",
    "        examples[\"input\"],              # Make sure your dataset uses \"input\" as the key\n",
    "        padding=\"max_length\",           # Pad all sequences to the same max_length\n",
    "        truncation=True,                # Truncate longer sequences\n",
    "        max_length=256,                 # Explicitly set max length (adjust as needed)\n",
    "        return_tensors=\"pt\"             # Ensures PyTorch compatibility\n",
    "    )\n",
    "\n",
    "# Tokenize all datasets efficiently\n",
    "tokenized_train_dataset = train_dataset.map(tokenize_function, batched=True)\n",
    "tokenized_valid_dataset = new_validation_dataset.map(tokenize_function, batched=True)\n",
    "tokenized_test_dataset = test_dataset.map(tokenize_function, batched=True)\n",
    "\n",
    "\n",
    "# Preview tokenization\n",
    "print(\"\\n✅ Tokenized Datasets:\")\n",
    "print(f\"Train: {len(tokenized_train_dataset)} samples\")\n",
    "print(f\"Validation: {len(tokenized_valid_dataset)} samples\")\n",
    "print(f\"Test: {len(tokenized_test_dataset)} samples\")\n"
   ],
   "id": "c45aaeab7869687",
   "outputs": [
    {
     "name": "stderr",
     "output_type": "stream",
     "text": [
      "C:\\Users\\smith\\Desktop\\Web App Research\\MusicTrainer\\.venv\\Lib\\site-packages\\huggingface_hub\\file_download.py:943: FutureWarning: `resume_download` is deprecated and will be removed in version 1.0.0. Downloads always resume when possible. If you want to force a new download, use `force_download=True`.\n",
      "  warnings.warn(\n",
      "Map: 100%|██████████| 5000/5000 [00:00<00:00, 5958.70 examples/s]\n",
      "Map: 100%|██████████| 5000/5000 [00:00<00:00, 6147.71 examples/s]"
     ]
    },
    {
     "name": "stdout",
     "output_type": "stream",
     "text": [
      "\n",
      "✅ Tokenized Datasets:\n",
      "Train: 5000 samples\n",
      "Validation: 5000 samples\n",
      "Test: 5000 samples\n"
     ]
    },
    {
     "name": "stderr",
     "output_type": "stream",
     "text": [
      "\n"
     ]
    }
   ],
   "execution_count": 5
  },
  {
   "metadata": {
    "ExecuteTime": {
     "end_time": "2025-07-22T00:07:56.464318Z",
     "start_time": "2025-07-21T23:19:09.858699Z"
    }
   },
   "cell_type": "code",
   "source": [
    "import os\n",
    "import gc\n",
    "import torch\n",
    "from datasets import Dataset\n",
    "from transformers import (\n",
    "    AutoTokenizer,\n",
    "    AutoModelForSequenceClassification,\n",
    "    TrainingArguments,\n",
    "    Trainer,\n",
    ")\n",
    "\n",
    "# ========== CONFIG ==========\n",
    "MODEL_NAME = \"distilroberta-base\"\n",
    "MAX_LENGTH = 256\n",
    "TRAIN_BATCH_SIZE = 4\n",
    "EVAL_BATCH_SIZE = 2\n",
    "GRAD_ACCUM_STEPS = 2\n",
    "NUM_EPOCHS = 3\n",
    "LEARNING_RATE = 5e-5\n",
    "USE_FP16 = True  # Set to False if not using a modern GPU\n",
    "\n",
    "# Improve CUDA memory handling\n",
    "os.environ[\"PYTORCH_CUDA_ALLOC_CONF\"] = \"expandable_segments:True\"\n",
    "\n",
    "# ========== LABEL ENCODER ==========\n",
    "class RobustLabelEncoder:\n",
    "    def __init__(self, unknown_token: str = \"<UNK>\"):\n",
    "        self.label_to_int = {unknown_token: 0}\n",
    "        self.int_to_label = {0: unknown_token}\n",
    "        self.unknown_token = unknown_token\n",
    "        self.unknown_id = 0\n",
    "        self.next_id = 1\n",
    "\n",
    "    def fit(self, labels):\n",
    "        for label in sorted(set(labels)):\n",
    "            if label not in self.label_to_int:\n",
    "                self.label_to_int[label] = self.next_id\n",
    "                self.int_to_label[self.next_id] = label\n",
    "                self.next_id += 1\n",
    "        return self\n",
    "\n",
    "    def transform(self, labels):\n",
    "        return [self.label_to_int.get(label, self.unknown_id) for label in labels]\n",
    "\n",
    "    def inverse_transform(self, ids):\n",
    "        return [self.int_to_label.get(i, self.unknown_token) for i in ids]\n",
    "\n",
    "# ========== DATA PREPARATION ==========\n",
    "\n",
    "# Fit label encoder\n",
    "all_labels = list(set(train_dataset[\"output\"]) | set(new_validation_dataset[\"output\"]) | set(test_dataset[\"output\"]))\n",
    "label_encoder = RobustLabelEncoder().fit(all_labels)\n",
    "\n",
    "# Add numeric label field\n",
    "def encode_label(example):\n",
    "    example[\"labels\"] = label_encoder.transform([example[\"output\"]])[0]\n",
    "    return example\n",
    "\n",
    "train_dataset = train_dataset.map(encode_label)\n",
    "new_validation_dataset = new_validation_dataset.map(encode_label)\n",
    "test_dataset = test_dataset.map(encode_label)\n",
    "\n",
    "# Tokenization\n",
    "tokenizer = AutoTokenizer.from_pretrained(MODEL_NAME)\n",
    "\n",
    "def tokenize(example):\n",
    "    return tokenizer(example[\"input\"], truncation=True, padding=\"max_length\", max_length=MAX_LENGTH)\n",
    "\n",
    "tokenized_train = train_dataset.map(tokenize, batched=True)\n",
    "tokenized_valid = new_validation_dataset.map(tokenize, batched=True)\n",
    "tokenized_test = test_dataset.map(tokenize, batched=True)\n",
    "\n",
    "# Remove unnecessary columns\n",
    "columns_to_remove = ['dataset', 'task']\n",
    "for dataset in [tokenized_train, tokenized_valid, tokenized_test]:\n",
    "    for col in columns_to_remove:\n",
    "        if col in dataset.column_names:\n",
    "            dataset = dataset.remove_columns(col)\n",
    "\n",
    "# ========== MEMORY CLEANUP ==========\n",
    "gc.collect()\n",
    "torch.cuda.empty_cache()\n",
    "\n",
    "# ========== MODEL ==========\n",
    "model = AutoModelForSequenceClassification.from_pretrained(\n",
    "    MODEL_NAME,\n",
    "    num_labels=len(label_encoder.label_to_int),\n",
    ")\n",
    "model.gradient_checkpointing_enable()\n",
    "\n",
    "# ========== TRAINING ARGUMENTS ==========\n",
    "training_args = TrainingArguments(\n",
    "    output_dir=\"./results\",\n",
    "    evaluation_strategy=\"steps\",\n",
    "    save_strategy=\"steps\",\n",
    "    eval_steps=1000,\n",
    "    save_steps=1000,\n",
    "    logging_steps=200,\n",
    "    per_device_train_batch_size=TRAIN_BATCH_SIZE,\n",
    "    per_device_eval_batch_size=EVAL_BATCH_SIZE,\n",
    "    gradient_accumulation_steps=GRAD_ACCUM_STEPS,\n",
    "    num_train_epochs=NUM_EPOCHS,\n",
    "    weight_decay=0.01,\n",
    "    learning_rate=LEARNING_RATE,\n",
    "    load_best_model_at_end=True,\n",
    "    metric_for_best_model=\"eval_loss\",\n",
    "    greater_is_better=False,\n",
    "    dataloader_num_workers=0,\n",
    "    logging_dir=\"./logs\",\n",
    "    fp16=USE_FP16,\n",
    ")\n",
    "\n",
    "# ========== TRAINER ==========\n",
    "trainer = Trainer(\n",
    "    model=model,\n",
    "    args=training_args,\n",
    "    train_dataset=tokenized_train,\n",
    "    eval_dataset=tokenized_valid,\n",
    ")\n",
    "\n",
    "# ========== TRAINING ==========\n",
    "print(\"Training...\")\n",
    "trainer.train()\n",
    "\n",
    "# ========== EVALUATION ==========\n",
    "print(\"Evaluating...\")\n",
    "results = trainer.evaluate(tokenized_test)\n",
    "print(\"Evaluation Results:\", results)\n"
   ],
   "id": "b7088ae5d1b8ddfa",
   "outputs": [
    {
     "name": "stderr",
     "output_type": "stream",
     "text": [
      "Map: 100%|██████████| 5000/5000 [00:00<00:00, 18135.48 examples/s]\n",
      "Map: 100%|██████████| 5000/5000 [00:00<00:00, 18444.50 examples/s]\n",
      "C:\\Users\\smith\\Desktop\\Web App Research\\MusicTrainer\\.venv\\Lib\\site-packages\\huggingface_hub\\file_download.py:943: FutureWarning: `resume_download` is deprecated and will be removed in version 1.0.0. Downloads always resume when possible. If you want to force a new download, use `force_download=True`.\n",
      "  warnings.warn(\n",
      "Map: 100%|██████████| 5000/5000 [00:00<00:00, 8508.30 examples/s]\n",
      "Map: 100%|██████████| 5000/5000 [00:00<00:00, 8479.44 examples/s]\n",
      "Some weights of RobertaForSequenceClassification were not initialized from the model checkpoint at distilroberta-base and are newly initialized: ['classifier.dense.bias', 'classifier.dense.weight', 'classifier.out_proj.bias', 'classifier.out_proj.weight']\n",
      "You should probably TRAIN this model on a down-stream task to be able to use it for predictions and inference.\n",
      "C:\\Users\\smith\\Desktop\\Web App Research\\MusicTrainer\\.venv\\Lib\\site-packages\\accelerate\\accelerator.py:450: FutureWarning: `torch.cuda.amp.GradScaler(args...)` is deprecated. Please use `torch.amp.GradScaler('cuda', args...)` instead.\n",
      "  self.scaler = torch.cuda.amp.GradScaler(**kwargs)\n"
     ]
    },
    {
     "name": "stdout",
     "output_type": "stream",
     "text": [
      "Training...\n"
     ]
    },
    {
     "data": {
      "text/plain": [
       "<IPython.core.display.HTML object>"
      ],
      "text/html": [
       "\n",
       "    <div>\n",
       "      \n",
       "      <progress value='1875' max='1875' style='width:300px; height:20px; vertical-align: middle;'></progress>\n",
       "      [1875/1875 45:12, Epoch 3/3]\n",
       "    </div>\n",
       "    <table border=\"1\" class=\"dataframe\">\n",
       "  <thead>\n",
       " <tr style=\"text-align: left;\">\n",
       "      <th>Step</th>\n",
       "      <th>Training Loss</th>\n",
       "      <th>Validation Loss</th>\n",
       "    </tr>\n",
       "  </thead>\n",
       "  <tbody>\n",
       "    <tr>\n",
       "      <td>1000</td>\n",
       "      <td>8.521100</td>\n",
       "      <td>8.508165</td>\n",
       "    </tr>\n",
       "  </tbody>\n",
       "</table><p>"
      ]
     },
     "metadata": {},
     "output_type": "display_data"
    },
    {
     "name": "stderr",
     "output_type": "stream",
     "text": [
      "Checkpoint destination directory ./results\\checkpoint-1000 already exists and is non-empty. Saving will proceed but saved results may be invalid.\n"
     ]
    },
    {
     "name": "stdout",
     "output_type": "stream",
     "text": [
      "Evaluating...\n"
     ]
    },
    {
     "data": {
      "text/plain": [
       "<IPython.core.display.HTML object>"
      ],
      "text/html": [
       "\n",
       "    <div>\n",
       "      \n",
       "      <progress value='2500' max='2500' style='width:300px; height:20px; vertical-align: middle;'></progress>\n",
       "      [2500/2500 03:29]\n",
       "    </div>\n",
       "    "
      ]
     },
     "metadata": {},
     "output_type": "display_data"
    },
    {
     "name": "stdout",
     "output_type": "stream",
     "text": [
      "Evaluation Results: {'eval_loss': 8.50816535949707, 'eval_runtime': 209.8017, 'eval_samples_per_second': 23.832, 'eval_steps_per_second': 11.916, 'epoch': 3.0}\n"
     ]
    }
   ],
   "execution_count": 7
  },
  {
   "metadata": {
    "ExecuteTime": {
     "end_time": "2025-07-18T22:58:53.756151400Z",
     "start_time": "2025-07-18T17:26:59.612721Z"
    }
   },
   "cell_type": "code",
   "source": [
    "import torch\n",
    "print(\"CUDA available:\", torch.cuda.is_available())\n",
    "print(\"Device name:\", torch.cuda.get_device_name(0) if torch.cuda.is_available() else \"No GPU\")\n"
   ],
   "id": "66b412b1269d210",
   "outputs": [
    {
     "name": "stdout",
     "output_type": "stream",
     "text": [
      "CUDA available: True\n",
      "Device name: NVIDIA GeForce GTX 1660 Ti\n"
     ]
    }
   ],
   "execution_count": 8
  }
 ],
 "metadata": {
  "kernelspec": {
   "display_name": "Python 3",
   "language": "python",
   "name": "python3"
  },
  "language_info": {
   "codemirror_mode": {
    "name": "ipython",
    "version": 2
   },
   "file_extension": ".py",
   "mimetype": "text/x-python",
   "name": "python",
   "nbconvert_exporter": "python",
   "pygments_lexer": "ipython2",
   "version": "2.7.6"
  }
 },
 "nbformat": 4,
 "nbformat_minor": 5
}
